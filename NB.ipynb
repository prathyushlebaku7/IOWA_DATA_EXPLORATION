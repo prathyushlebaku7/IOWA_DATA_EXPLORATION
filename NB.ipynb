{
 "cells": [
  {
   "cell_type": "code",
   "execution_count": 1,
   "metadata": {},
   "outputs": [],
   "source": [
    "# implement negative binomial regression\n",
    "\n",
    "import numpy as np\n",
    "import pandas as pd\n",
    "import statsmodels.api as sm\n",
    "import statsmodels.formula.api as smf\n",
    "import matplotlib.pyplot as plt\n",
    "\n",
    "        "
   ]
  },
  {
   "cell_type": "code",
   "execution_count": 2,
   "metadata": {},
   "outputs": [
    {
     "name": "stderr",
     "output_type": "stream",
     "text": [
      "d:\\Program Files\\python\\lib\\site-packages\\IPython\\core\\interactiveshell.py:3326: DtypeWarning: Columns (11,87,99,115,116,119,120,121,122,123,131,132,147,148,150,151,152,153,154,155,156,185,186,187,188,192,193,194,195,196,199,200,201,202,209,210,211,212,215,218,219,225) have mixed types.Specify dtype option on import or set low_memory=False.\n",
      "  exec(code_obj, self.user_global_ns, self.user_ns)\n"
     ]
    }
   ],
   "source": [
    "# load data\n",
    "df = pd.read_csv('Pavement_with_crashes_2022.csv')\n"
   ]
  },
  {
   "cell_type": "code",
   "execution_count": 3,
   "metadata": {},
   "outputs": [
    {
     "name": "stdout",
     "output_type": "stream",
     "text": [
      "BASTHK8          0.532394\n",
      "LAYR8            0.485549\n",
      "WIDTH            0.295514\n",
      "AADT             0.287151\n",
      "LANES            0.269252\n",
      "IRI              0.220451\n",
      "PATCHES          0.197953\n",
      "JTSPALL_TRANS    0.173450\n",
      "SURTHK2          0.169085\n",
      "PATCH_PCT        0.144060\n",
      "Name: Crashes, dtype: float64 \n",
      "\n"
     ]
    }
   ],
   "source": [
    "# Top 10 correlated features with Crashes\n",
    "corr = df.corr()\n",
    "print(corr['Crashes'].sort_values(ascending=False)[1:11], '\\n')\n"
   ]
  },
  {
   "cell_type": "code",
   "execution_count": 4,
   "metadata": {},
   "outputs": [
    {
     "name": "stdout",
     "output_type": "stream",
     "text": [
      "nan values in X:  AADT      2\n",
      "SPEED     0\n",
      "IRI      20\n",
      "dtype: int64\n",
      "nan values in Y:  0\n",
      "nan values in X:  AADT     0\n",
      "SPEED    0\n",
      "IRI      0\n",
      "dtype: int64\n",
      "nan values in Y:  0\n"
     ]
    }
   ],
   "source": [
    "# considering AADT, SPEED, IRI as features\n",
    "X = df[['AADT','SPEED','IRI']]\n",
    "# X = df[['WIDTH','AADT','IRI','LANES','PATCHES']]\n",
    "Y = df['Crashes']\n",
    "# print nan values\n",
    "print('nan values in X: ',X.isnull().sum())\n",
    "print('nan values in Y: ',Y.isnull().sum())\n",
    "\n",
    "# replace nan values with mean\n",
    "X = X.fillna(X.mean())\n",
    "Y = Y.fillna(Y.mean())\n",
    "\n",
    "# print nan values\n",
    "print('nan values in X: ',X.isnull().sum())\n",
    "print('nan values in Y: ',Y.isnull().sum())\n",
    "    \n"
   ]
  },
  {
   "cell_type": "code",
   "execution_count": 5,
   "metadata": {},
   "outputs": [
    {
     "name": "stdout",
     "output_type": "stream",
     "text": [
      "                 Generalized Linear Model Regression Results                  \n",
      "==============================================================================\n",
      "Dep. Variable:                Crashes   No. Observations:                 4119\n",
      "Model:                            GLM   Df Residuals:                     4116\n",
      "Model Family:        NegativeBinomial   Df Model:                            2\n",
      "Link Function:                    Log   Scale:                          1.0000\n",
      "Method:                          IRLS   Log-Likelihood:                -8257.6\n",
      "Date:                Mon, 06 Nov 2023   Deviance:                       5475.7\n",
      "Time:                        17:57:08   Pearson chi2:                 6.69e+03\n",
      "No. Iterations:                    20   Pseudo R-squ. (CS):             0.3400\n",
      "Covariance Type:            nonrobust                                         \n",
      "==============================================================================\n",
      "                 coef    std err          z      P>|z|      [0.025      0.975]\n",
      "------------------------------------------------------------------------------\n",
      "AADT           0.0001   2.68e-06     39.571      0.000       0.000       0.000\n",
      "SPEED         -0.0118      0.001    -16.596      0.000      -0.013      -0.010\n",
      "IRI            0.0069      0.000     24.601      0.000       0.006       0.007\n",
      "==============================================================================\n"
     ]
    }
   ],
   "source": [
    "# negative binomial regression\n",
    "model = sm.GLM(Y, X, family=sm.families.NegativeBinomial())\n",
    "results = model.fit()\n",
    "print(results.summary())"
   ]
  },
  {
   "cell_type": "code",
   "execution_count": 6,
   "metadata": {},
   "outputs": [
    {
     "data": {
      "image/png": "[encoded data removed]",
      "text/plain": [
       "<Figure size 432x288 with 1 Axes>"
      ]
     },
     "metadata": {
      "needs_background": "light"
     },
     "output_type": "display_data"
    }
   ],
   "source": [
    "predicted = results.predict()\n",
    "predicted = predicted.astype(int)\n",
    "plt.scatter(predicted, Y)\n",
    "plt.xlabel('Predicted values')\n",
    "plt.ylabel('Actual values')\n",
    "plt.show()\n",
    "    "
   ]
  },
  {
   "cell_type": "code",
   "execution_count": 7,
   "metadata": {},
   "outputs": [
    {
     "name": "stdout",
     "output_type": "stream",
     "text": [
      "                 Generalized Linear Model Regression Results                  \n",
      "==============================================================================\n",
      "Dep. Variable:                Crashes   No. Observations:                 4119\n",
      "Model:                            GLM   Df Residuals:                     4116\n",
      "Model Family:        NegativeBinomial   Df Model:                            2\n",
      "Link Function:                    Log   Scale:                          1.0000\n",
      "Method:                          IRLS   Log-Likelihood:                -9949.3\n",
      "Date:                Mon, 06 Nov 2023   Deviance:                       11244.\n",
      "Time:                        17:57:09   Pearson chi2:                 1.66e+04\n",
      "No. Iterations:                    18   Pseudo R-squ. (CS):             0.6322\n",
      "Covariance Type:            nonrobust                                         \n",
      "==============================================================================\n",
      "                 coef    std err          z      P>|z|      [0.025      0.975]\n",
      "------------------------------------------------------------------------------\n",
      "AADT        8.947e-05   1.43e-06     62.585      0.000    8.67e-05    9.23e-05\n",
      "SPEED         -0.0115      0.000    -24.914      0.000      -0.012      -0.011\n",
      "IRI            0.0077      0.000     47.995      0.000       0.007       0.008\n",
      "==============================================================================\n"
     ]
    },
    {
     "data": {
      "image/png": "[encoded data removed]",
      "text/plain": [
       "<Figure size 432x288 with 1 Axes>"
      ]
     },
     "metadata": {
      "needs_background": "light"
     },
     "output_type": "display_data"
    }
   ],
   "source": [
    "# negative binomial regression with alpha = 0.2\n",
    "model = sm.GLM(Y, X, family=sm.families.NegativeBinomial(alpha=0.2))\n",
    "results = model.fit()\n",
    "print(results.summary())\n",
    "\n",
    "# plot predicted values and actual values\n",
    "predicted = results.predict()\n",
    "# convert predicted values to integer\n",
    "predicted = predicted.astype(int)\n",
    "plt.scatter(predicted, Y)\n",
    "plt.xlabel('Predicted values')\n",
    "plt.ylabel('Actual values')\n",
    "plt.show()"
   ]
  },
  {
   "cell_type": "code",
   "execution_count": 8,
   "metadata": {},
   "outputs": [
    {
     "name": "stdout",
     "output_type": "stream",
     "text": [
      "[ 0.00032671 -0.12729002  0.0145718 ]\n",
      "6.1121647170974285\n"
     ]
    },
    {
     "data": {
      "image/png": "[encoded data removed]",
      "text/plain": [
       "<Figure size 432x288 with 1 Axes>"
      ]
     },
     "metadata": {
      "needs_background": "light"
     },
     "output_type": "display_data"
    }
   ],
   "source": [
    "# Linear regression\n",
    "from sklearn.linear_model import LinearRegression\n",
    "regressor = LinearRegression()\n",
    "regressor.fit(X, Y)\n",
    "print(regressor.coef_)\n",
    "print(regressor.intercept_)\n",
    "y_pred = regressor.predict(X)\n",
    "y_pred = y_pred.astype(int)\n",
    "\n",
    "# plot predicted values and actual values\n",
    "plt.scatter(y_pred, Y)\n",
    "plt.xlabel('Predicted values')\n",
    "plt.ylabel('Actual values')\n",
    "plt.show()\n",
    "    "
   ]
  },
  {
   "cell_type": "code",
   "execution_count": 13,
   "metadata": {},
   "outputs": [
    {
     "data": {
      "image/png": "[encoded data removed]",
      "text/plain": [
       "<Figure size 432x288 with 1 Axes>"
      ]
     },
     "metadata": {
      "needs_background": "light"
     },
     "output_type": "display_data"
    }
   ],
   "source": [
    "# polynomial regression\n",
    "# here output should be greater than or equal to zero no negative values\n",
    "from sklearn.preprocessing import PolynomialFeatures\n",
    "poly_reg = PolynomialFeatures(degree=5)\n",
    "X_poly = poly_reg.fit_transform(X)\n",
    "regressor = LinearRegression()\n",
    "regressor.fit(X_poly, Y)\n",
    "y_pred = regressor.predict(X_poly)\n",
    "# no negative values\n",
    "y_pred[y_pred < 0] = 0\n",
    "y_pred = y_pred.astype(int)\n",
    "\n",
    "# plot predicted values and actual values\n",
    "plt.scatter(y_pred, Y)\n",
    "plt.xlabel('Predicted values')\n",
    "plt.ylabel('Actual values')\n",
    "plt.show()\n",
    "\n",
    "\n"
   ]
  }
 ],
 "metadata": {
  "kernelspec": {
   "display_name": "Python 3.7.4 64-bit",
   "language": "python",
   "name": "python3"
  },
  "language_info": {
   "codemirror_mode": {
    "name": "ipython",
    "version": 3
   },
   "file_extension": ".py",
   "mimetype": "text/x-python",
   "name": "python",
   "nbconvert_exporter": "python",
   "pygments_lexer": "ipython3",
   "version": "3.7.4"
  },
  "orig_nbformat": 4,
  "vscode": {
   "interpreter": {
    "hash": "d437476005cff51462e9417396f7c31ae9ae2568db0a2117c71fbac8b9386c13"
   }
  }
 },
 "nbformat": 4,
 "nbformat_minor": 2
}
