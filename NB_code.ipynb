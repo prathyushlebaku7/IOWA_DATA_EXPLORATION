{
 "cells": [
  {
   "cell_type": "code",
   "execution_count": 13,
   "metadata": {},
   "outputs": [
    {
     "name": "stdout",
     "output_type": "stream",
     "text": [
      "Total crashes is 21536 \n"
     ]
    },
    {
     "name": "stderr",
     "output_type": "stream",
     "text": [
      "/var/folders/yl/h3jt_tns2s14c8y5w9qptb6c0000gn/T/ipykernel_31733/1261433241.py:5: DtypeWarning: Columns (143,172,176,177,178,179,188,203,204,207,208,209,210,211,212,243,244,252,257,258,267,268,274,275,281) have mixed types. Specify dtype option on import or set low_memory=False.\n",
      "  df = pd.read_csv(file_path)\n"
     ]
    }
   ],
   "source": [
    "import pandas as pd\n",
    "\n",
    "# Load the CSV file\n",
    "file_path = '/Users/lebakuprathyushkumarreddy/Downloads/pavement_with_crashes_for_each_collisiontype_csvfile/merged_csv_file_using_geopandas.csv'\n",
    "df = pd.read_csv(file_path)\n",
    "\n",
    "data = df\n",
    "# Grouping the data by 'OBJECTID' and counting the crashes\n",
    "crash_counts = data.groupby('OBJECTID').size()\n",
    "# Creating a new dataframe with OBJECTID and the crash counts\n",
    "pavement_section_data = data.drop_duplicates(subset='OBJECTID').set_index('OBJECTID')\n",
    "pavement_section_data['Crash_Count'] = crash_counts\n",
    "\n",
    "# Resetting the index to include OBJECTID as a column\n",
    "pavement_section_data.reset_index(inplace=True)\n",
    "\n",
    "# The final dataframe is stored in pavement_section_data\n",
    "\n",
    "pavement_section_data[\"Crash_Rate\"]= pavement_section_data[\"Crash_Count\"] *100000000/(pavement_section_data[\"AADT\"]*pavement_section_data[\"PMIS_LENGTH\"]*365)\n",
    "\n",
    "print(f\"Total crashes is {pavement_section_data['Crash_Count'].sum()} \")\n",
    "\n"
   ]
  },
  {
   "cell_type": "code",
   "execution_count": 29,
   "metadata": {},
   "outputs": [
    {
     "name": "stdout",
     "output_type": "stream",
     "text": [
      "                 Generalized Linear Model Regression Results                  \n",
      "==============================================================================\n",
      "Dep. Variable:      Crash_per_segment   No. Observations:                 3308\n",
      "Model:                            GLM   Df Residuals:                     3295\n",
      "Model Family:        NegativeBinomial   Df Model:                           12\n",
      "Link Function:                    Log   Scale:                          1.0000\n",
      "Method:                          IRLS   Log-Likelihood:                -7382.3\n",
      "Date:                Sun, 07 Jan 2024   Deviance:                       1378.7\n",
      "Time:                        19:34:46   Pearson chi2:                 1.80e+03\n",
      "No. Iterations:                    18   Pseudo R-squ. (CS):             0.6222\n",
      "Covariance Type:            nonrobust                                         \n",
      "===============================================================================\n",
      "                  coef    std err          z      P>|z|      [0.025      0.975]\n",
      "-------------------------------------------------------------------------------\n",
      "Intercept       2.4655      0.291      8.485      0.000       1.896       3.035\n",
      "IRI             0.0019      0.001      2.301      0.021       0.000       0.004\n",
      "AADT            0.0001   4.44e-06     25.421      0.000       0.000       0.000\n",
      "SPEED          -0.0241      0.003     -8.393      0.000      -0.030      -0.018\n",
      "PCI_2          -0.0078      0.004     -2.066      0.039      -0.015      -0.000\n",
      "CRACK_INDX      0.0043      0.002      1.774      0.076      -0.000       0.009\n",
      "FAULT_INDX      0.0015      0.001      2.001      0.045    2.94e-05       0.003\n",
      "FRICT          -0.0090      0.001     -7.043      0.000      -0.012      -0.007\n",
      "FAULTAV        -0.9661      1.124     -0.860      0.390      -3.168       1.236\n",
      "RUT            -0.1605      0.383     -0.419      0.675      -0.912       0.591\n",
      "TRUCKS      -7.423e-05   1.21e-05     -6.138      0.000   -9.79e-05   -5.05e-05\n",
      "WIDTH           0.0010      0.003      0.355      0.723      -0.005       0.007\n",
      "PMIS_LENGTH    -0.1404      0.010    -14.235      0.000      -0.160      -0.121\n",
      "===============================================================================\n"
     ]
    },
    {
     "name": "stderr",
     "output_type": "stream",
     "text": [
      "/Users/lebakuprathyushkumarreddy/anaconda3/lib/python3.11/site-packages/statsmodels/genmod/families/family.py:1367: ValueWarning: Negative binomial dispersion parameter alpha not set. Using default value alpha=1.0.\n",
      "  warnings.warn(\"Negative binomial dispersion parameter alpha not \"\n"
     ]
    }
   ],
   "source": [
    "import pandas as pd\n",
    "import statsmodels.formula.api as smf \n",
    "import statsmodels.api as sm # Using smf for concise formula-based modeling\n",
    "\n",
    "# Load data (assuming it's in a CSV file)\n",
    "\n",
    "# Fill missing values with 0\n",
    "pavement_section_data.fillna(0, inplace=True)\n",
    "\n",
    "# Create crash per segment feature\n",
    "pavement_section_data[\"Crash_per_segment\"] = pavement_section_data[\"Crash_Count\"] / pavement_section_data[\"PMIS_LENGTH\"]\n",
    "\n",
    "model = smf.glm(\"Crash_per_segment ~ IRI + AADT + SPEED + PCI_2 + CRACK_INDX + FAULT_INDX + FRICT + FAULTAV + RUT + TRUCKS + WIDTH + PMIS_LENGTH\",\n",
    "    data=pavement_section_data,\n",
    "    family=sm.families.NegativeBinomial(),).fit()\n",
    "\n",
    "# Print model summary\n",
    "print(model.summary())\n"
   ]
  }
 ],
 "metadata": {
  "kernelspec": {
   "display_name": "base",
   "language": "python",
   "name": "python3"
  },
  "language_info": {
   "codemirror_mode": {
    "name": "ipython",
    "version": 3
   },
   "file_extension": ".py",
   "mimetype": "text/x-python",
   "name": "python",
   "nbconvert_exporter": "python",
   "pygments_lexer": "ipython3",
   "version": "3.11.4"
  }
 },
 "nbformat": 4,
 "nbformat_minor": 2
}
